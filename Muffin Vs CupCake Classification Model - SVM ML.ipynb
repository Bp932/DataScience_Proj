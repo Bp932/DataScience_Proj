{
 "cells": [
  {
   "cell_type": "markdown",
   "id": "70d73c29",
   "metadata": {},
   "source": [
    "#### Step 1: Import Packages."
   ]
  },
  {
   "cell_type": "code",
   "execution_count": 1,
   "id": "e51f6784",
   "metadata": {},
   "outputs": [],
   "source": [
    "\n",
    "# package for analysis\n",
    "\n",
    "import pandas as pd\n",
    "import numpy as np\n",
    "from sklearn import svm\n",
    "\n",
    "# package for visuals\n",
    "\n",
    "import matplotlib.pyplot as plt\n",
    "import seaborn as sns\n",
    "\n",
    "# allows charts to appear in the notebook\n",
    "%matplotlib inline\n",
    "\n",
    "# Pickle package\n",
    "import pickle"
   ]
  },
  {
   "cell_type": "markdown",
   "id": "cb1e0876",
   "metadata": {},
   "source": [
    "#### Step 2: Import Data."
   ]
  },
  {
   "cell_type": "code",
   "execution_count": 2,
   "id": "08f6421e",
   "metadata": {},
   "outputs": [
    {
     "data": {
      "text/html": [
       "<div>\n",
       "<style scoped>\n",
       "    .dataframe tbody tr th:only-of-type {\n",
       "        vertical-align: middle;\n",
       "    }\n",
       "\n",
       "    .dataframe tbody tr th {\n",
       "        vertical-align: top;\n",
       "    }\n",
       "\n",
       "    .dataframe thead th {\n",
       "        text-align: right;\n",
       "    }\n",
       "</style>\n",
       "<table border=\"1\" class=\"dataframe\">\n",
       "  <thead>\n",
       "    <tr style=\"text-align: right;\">\n",
       "      <th></th>\n",
       "      <th>Type</th>\n",
       "      <th>Flour</th>\n",
       "      <th>Milk</th>\n",
       "      <th>Sugar</th>\n",
       "      <th>Butter</th>\n",
       "      <th>Egg</th>\n",
       "      <th>Baking Powder</th>\n",
       "      <th>Vanilla</th>\n",
       "      <th>Salt</th>\n",
       "    </tr>\n",
       "  </thead>\n",
       "  <tbody>\n",
       "    <tr>\n",
       "      <th>0</th>\n",
       "      <td>Muffin</td>\n",
       "      <td>55</td>\n",
       "      <td>28</td>\n",
       "      <td>3</td>\n",
       "      <td>7</td>\n",
       "      <td>5</td>\n",
       "      <td>2</td>\n",
       "      <td>0</td>\n",
       "      <td>0</td>\n",
       "    </tr>\n",
       "    <tr>\n",
       "      <th>1</th>\n",
       "      <td>Muffin</td>\n",
       "      <td>47</td>\n",
       "      <td>24</td>\n",
       "      <td>12</td>\n",
       "      <td>6</td>\n",
       "      <td>9</td>\n",
       "      <td>1</td>\n",
       "      <td>0</td>\n",
       "      <td>0</td>\n",
       "    </tr>\n",
       "    <tr>\n",
       "      <th>2</th>\n",
       "      <td>Muffin</td>\n",
       "      <td>47</td>\n",
       "      <td>23</td>\n",
       "      <td>18</td>\n",
       "      <td>6</td>\n",
       "      <td>4</td>\n",
       "      <td>1</td>\n",
       "      <td>0</td>\n",
       "      <td>0</td>\n",
       "    </tr>\n",
       "    <tr>\n",
       "      <th>3</th>\n",
       "      <td>Muffin</td>\n",
       "      <td>45</td>\n",
       "      <td>11</td>\n",
       "      <td>17</td>\n",
       "      <td>17</td>\n",
       "      <td>8</td>\n",
       "      <td>1</td>\n",
       "      <td>0</td>\n",
       "      <td>0</td>\n",
       "    </tr>\n",
       "    <tr>\n",
       "      <th>4</th>\n",
       "      <td>Muffin</td>\n",
       "      <td>50</td>\n",
       "      <td>25</td>\n",
       "      <td>12</td>\n",
       "      <td>6</td>\n",
       "      <td>5</td>\n",
       "      <td>2</td>\n",
       "      <td>1</td>\n",
       "      <td>0</td>\n",
       "    </tr>\n",
       "  </tbody>\n",
       "</table>\n",
       "</div>"
      ],
      "text/plain": [
       "     Type  Flour  Milk  Sugar  Butter  Egg  Baking Powder  Vanilla  Salt\n",
       "0  Muffin     55    28      3       7    5              2        0     0\n",
       "1  Muffin     47    24     12       6    9              1        0     0\n",
       "2  Muffin     47    23     18       6    4              1        0     0\n",
       "3  Muffin     45    11     17      17    8              1        0     0\n",
       "4  Muffin     50    25     12       6    5              2        1     0"
      ]
     },
     "execution_count": 2,
     "metadata": {},
     "output_type": "execute_result"
    }
   ],
   "source": [
    "\n",
    "# Read in muffin and cupcake ingredient data\n",
    "\n",
    "recipes = pd.read_csv(\"recipes_muffins_cupcakes.csv\")\n",
    "recipes.head()"
   ]
  },
  {
   "cell_type": "markdown",
   "id": "bc4b4981",
   "metadata": {},
   "source": [
    "#### Step 3: Prepare the Data (Pre-Processing)."
   ]
  },
  {
   "cell_type": "code",
   "execution_count": 49,
   "id": "d2fe4dfc",
   "metadata": {},
   "outputs": [
    {
     "data": {
      "text/plain": [
       "<seaborn.axisgrid.FacetGrid at 0x20bf02360a0>"
      ]
     },
     "execution_count": 49,
     "metadata": {},
     "output_type": "execute_result"
    },
    {
     "data": {
      "image/png": "[encoded data removed]",
      "text/plain": [
       "<Figure size 438.625x360 with 1 Axes>"
      ]
     },
     "metadata": {
      "needs_background": "light"
     },
     "output_type": "display_data"
    }
   ],
   "source": [
    "\n",
    "# Plot two ingredients\n",
    "\n",
    "sns.lmplot(x='Flour',y='Sugar',data=recipes,hue='Type',\n",
    "          palette='Set1',fit_reg=False,scatter_kws={\"s\":70})"
   ]
  },
  {
   "cell_type": "code",
   "execution_count": 42,
   "id": "b061302a",
   "metadata": {},
   "outputs": [
    {
     "name": "stdout",
     "output_type": "stream",
     "text": [
      "ingridents:\n",
      " [[55  3]\n",
      " [47 12]\n",
      " [47 18]\n",
      " [45 17]\n",
      " [50 12]\n",
      " [55  3]\n",
      " [54  7]\n",
      " [47 10]\n",
      " [50 17]\n",
      " [50 17]\n",
      " [39 26]\n",
      " [42 16]\n",
      " [34 20]\n",
      " [39 17]\n",
      " [38 23]\n",
      " [42 25]\n",
      " [36 21]\n",
      " [38 31]\n",
      " [36 24]\n",
      " [34 23]]\n",
      "\n",
      "type_label:\n",
      " [0 0 0 0 0 0 0 0 0 0 1 1 1 1 1 1 1 1 1 1]\n",
      "\n",
      "feature names:\n",
      " ['Flour', 'Milk', 'Sugar', 'Butter', 'Egg', 'Baking Powder', 'Vanilla', 'Salt']\n"
     ]
    }
   ],
   "source": [
    "\n",
    "# Specify inputs for the model.\n",
    "ingredients = recipes[['Flour','Sugar']].values\n",
    "type_label = np.where(recipes['Type']=='Muffin',0,1)\n",
    "print('ingridents:\\n',ingredients)\n",
    "print('\\ntype_label:\\n',type_label)\n",
    "# Feature names\n",
    "recipe_features = recipes.columns.values[1:].tolist()\n",
    "print('\\nfeature names:\\n',recipe_features)"
   ]
  },
  {
   "cell_type": "markdown",
   "id": "430d44e3",
   "metadata": {},
   "source": [
    "#### Step 4. Fit the model."
   ]
  },
  {
   "cell_type": "code",
   "execution_count": 43,
   "id": "f0a1624c",
   "metadata": {},
   "outputs": [
    {
     "data": {
      "text/plain": [
       "SVC(kernel='linear')"
      ]
     },
     "execution_count": 43,
     "metadata": {},
     "output_type": "execute_result"
    }
   ],
   "source": [
    "\n",
    "# Fit the SVM model.\n",
    "\n",
    "mdl = svm.SVC(kernel='linear')\n",
    "mdl.fit(ingredients,type_label)"
   ]
  },
  {
   "cell_type": "markdown",
   "id": "b4ae9090",
   "metadata": {},
   "source": [
    "#### Step 5. Visualize Results."
   ]
  },
  {
   "cell_type": "code",
   "execution_count": 44,
   "id": "6922b299",
   "metadata": {},
   "outputs": [],
   "source": [
    "\n",
    "# Get the separating hyperplane.\n",
    "\n",
    "w = mdl.coef_[0]\n",
    "a = -w[0]/w[1]\n",
    "xx = np.linspace(30,60)\n",
    "yy = a*xx-(mdl.intercept_[0])/w[1]\n",
    "\n",
    "# Plot the parallels to the separating hyperplane that pass through the support vectors.\n",
    "b = mdl.support_vectors_[0]\n",
    "yy_down = a*xx+(b[1]-a*b[0])\n",
    "b = mdl.support_vectors_[-1]\n",
    "yy_up = a*xx+(b[1]-a*b[0])"
   ]
  },
  {
   "cell_type": "code",
   "execution_count": 47,
   "id": "84e25e6a",
   "metadata": {},
   "outputs": [
    {
     "name": "stdout",
     "output_type": "stream",
     "text": [
      "[-6.66503014e-01 -7.77156117e-16]\n",
      "-857617921181270.0\n",
      "[30.         30.6122449  31.2244898  31.83673469 32.44897959 33.06122449\n",
      " 33.67346939 34.28571429 34.89795918 35.51020408 36.12244898 36.73469388\n",
      " 37.34693878 37.95918367 38.57142857 39.18367347 39.79591837 40.40816327\n",
      " 41.02040816 41.63265306 42.24489796 42.85714286 43.46938776 44.08163265\n",
      " 44.69387755 45.30612245 45.91836735 46.53061224 47.14285714 47.75510204\n",
      " 48.36734694 48.97959184 49.59183673 50.20408163 50.81632653 51.42857143\n",
      " 52.04081633 52.65306122 53.26530612 53.87755102 54.48979592 55.10204082\n",
      " 55.71428571 56.32653061 56.93877551 57.55102041 58.16326531 58.7755102\n",
      " 59.3877551  60.        ]\n"
     ]
    }
   ],
   "source": [
    "print(w)\n",
    "print(a)\n",
    "print(xx)"
   ]
  },
  {
   "cell_type": "code",
   "execution_count": 48,
   "id": "45bfc433",
   "metadata": {},
   "outputs": [
    {
     "data": {
      "text/plain": [
       "[<matplotlib.lines.Line2D at 0x20bf0370490>]"
      ]
     },
     "execution_count": 48,
     "metadata": {},
     "output_type": "execute_result"
    },
    {
     "data": {
      "image/png": "[encoded data removed]",
      "text/plain": [
       "<Figure size 438.625x360 with 1 Axes>"
      ]
     },
     "metadata": {
      "needs_background": "light"
     },
     "output_type": "display_data"
    }
   ],
   "source": [
    "# Plot the hyperplane\n",
    "sns.lmplot(x='Flour', y='Sugar', data=recipes, hue='Type', palette='Set1', fit_reg=False, scatter_kws={\"s\": 70})\n",
    "plt.plot(xx, yy, linewidth=2, color='black')"
   ]
  },
  {
   "cell_type": "code",
   "execution_count": 51,
   "id": "243ca8a9",
   "metadata": {},
   "outputs": [
    {
     "data": {
      "text/plain": [
       "<matplotlib.collections.PathCollection at 0x20bf0262df0>"
      ]
     },
     "execution_count": 51,
     "metadata": {},
     "output_type": "execute_result"
    },
    {
     "data": {
      "image/png": "[encoded data removed]",
      "text/plain": [
       "<Figure size 438.625x360 with 1 Axes>"
      ]
     },
     "metadata": {
      "needs_background": "light"
     },
     "output_type": "display_data"
    }
   ],
   "source": [
    "# Look at the margins and support vectors\n",
    "sns.lmplot(x='Flour', y='Sugar', data=recipes, hue='Type', palette='Set1', fit_reg=False, scatter_kws={\"s\": 70})\n",
    "plt.plot(xx, yy, linewidth=2, color='black')\n",
    "plt.plot(xx, yy_down, 'k--')\n",
    "plt.plot(xx, yy_up, 'k--')\n",
    "plt.scatter(mdl.support_vectors_[:, 0], mdl.support_vectors_[:, 1],\n",
    "            s=80, facecolors='none')"
   ]
  },
  {
   "cell_type": "markdown",
   "id": "9a341532",
   "metadata": {},
   "source": [
    "#### Step 6: Predict New Case."
   ]
  },
  {
   "cell_type": "code",
   "execution_count": 57,
   "id": "e0b47eed",
   "metadata": {},
   "outputs": [],
   "source": [
    "# Create a function to guess when a recipe is a muffin or a cupcake\n",
    "def muffin_or_cupcake(flour, sugar):\n",
    "    if(mdl.predict([[flour, sugar]]))==0:\n",
    "        print('You\\'re looking at a muffin recipe!')\n",
    "    else:\n",
    "        print('You\\'re looking at a cupcake recipe!')"
   ]
  },
  {
   "cell_type": "code",
   "execution_count": 62,
   "id": "f66a93b1",
   "metadata": {},
   "outputs": [
    {
     "name": "stdout",
     "output_type": "stream",
     "text": [
      "You're looking at a muffin recipe!\n"
     ]
    }
   ],
   "source": [
    "# Predict if 50 parts flour and 20 parts sugar\n",
    "muffin_or_cupcake(75, 20)"
   ]
  },
  {
   "cell_type": "code",
   "execution_count": 66,
   "id": "4e6bc6a5",
   "metadata": {},
   "outputs": [
    {
     "data": {
      "image/png": "[encoded data removed]",
      "text/plain": [
       "<Figure size 438.625x360 with 1 Axes>"
      ]
     },
     "metadata": {
      "needs_background": "light"
     },
     "output_type": "display_data"
    }
   ],
   "source": [
    "# Plot the point to visually see where the point lies\n",
    "sns.lmplot(x='Flour', y='Sugar', data=recipes, hue='Type', palette='Set1', fit_reg=False, scatter_kws={\"s\": 70})\n",
    "plt.plot(xx, yy, linewidth=2, color='black')\n",
    "plt.plot(50, 20, 'yo', markersize='9');"
   ]
  },
  {
   "cell_type": "code",
   "execution_count": 68,
   "id": "11128d80",
   "metadata": {},
   "outputs": [],
   "source": [
    "muffin_cupcake_dict = {'muffin_cupcake_model': mdl, 'muffin_cupcake_features': ['Flour','Sugar'], 'all_features': recipe_features}"
   ]
  },
  {
   "cell_type": "code",
   "execution_count": 69,
   "id": "1c134f71",
   "metadata": {},
   "outputs": [
    {
     "data": {
      "text/plain": [
       "{'muffin_cupcake_model': SVC(kernel='linear'),\n",
       " 'muffin_cupcake_features': ['Flour', 'Sugar'],\n",
       " 'all_features': ['Flour',\n",
       "  'Milk',\n",
       "  'Sugar',\n",
       "  'Butter',\n",
       "  'Egg',\n",
       "  'Baking Powder',\n",
       "  'Vanilla',\n",
       "  'Salt']}"
      ]
     },
     "execution_count": 69,
     "metadata": {},
     "output_type": "execute_result"
    }
   ],
   "source": [
    "muffin_cupcake_dict"
   ]
  },
  {
   "cell_type": "code",
   "execution_count": 70,
   "id": "50f3a78c",
   "metadata": {},
   "outputs": [],
   "source": [
    "# Pickle\n",
    "pickle.dump(muffin_cupcake_dict, open(\"muffin_cupcake_dict.p\", \"wb\"))"
   ]
  },
  {
   "cell_type": "code",
   "execution_count": 71,
   "id": "ec935433",
   "metadata": {},
   "outputs": [
    {
     "data": {
      "text/plain": [
       "b'\\x80\\x04\\x95b\\x05\\x00\\x00\\x00\\x00\\x00\\x00}\\x94(\\x8c\\x14muffin_cupcake_model\\x94\\x8c\\x14sklearn.svm._classes\\x94\\x8c\\x03SVC\\x94\\x93\\x94)\\x81\\x94}\\x94(\\x8c\\x17decision_function_shape\\x94\\x8c\\x03ovr\\x94\\x8c\\nbreak_ties\\x94\\x89\\x8c\\x06kernel\\x94\\x8c\\x06linear\\x94\\x8c\\x06degree\\x94K\\x03\\x8c\\x05gamma\\x94\\x8c\\x05scale\\x94\\x8c\\x05coef0\\x94G\\x00\\x00\\x00\\x00\\x00\\x00\\x00\\x00\\x8c\\x03tol\\x94G?PbM\\xd2\\xf1\\xa9\\xfc\\x8c\\x01C\\x94G?\\xf0\\x00\\x00\\x00\\x00\\x00\\x00\\x8c\\x02nu\\x94G\\x00\\x00\\x00\\x00\\x00\\x00\\x00\\x00\\x8c\\x07epsilon\\x94G\\x00\\x00\\x00\\x00\\x00\\x00\\x00\\x00\\x8c\\tshrinking\\x94\\x88\\x8c\\x0bprobability\\x94\\x89\\x8c\\ncache_size\\x94K\\xc8\\x8c\\x0cclass_weight\\x94N\\x8c\\x07verbose\\x94\\x89\\x8c\\x08max_iter\\x94J\\xff\\xff\\xff\\xff\\x8c\\x0crandom_state\\x94N\\x8c\\x07_sparse\\x94\\x89\\x8c\\x0en_features_in_\\x94K\\x02\\x8c\\rclass_weight_\\x94\\x8c\\x15numpy.core.multiarray\\x94\\x8c\\x0c_reconstruct\\x94\\x93\\x94\\x8c\\x05numpy\\x94\\x8c\\x07ndarray\\x94\\x93\\x94K\\x00\\x85\\x94C\\x01b\\x94\\x87\\x94R\\x94(K\\x01K\\x02\\x85\\x94h!\\x8c\\x05dtype\\x94\\x93\\x94\\x8c\\x02f8\\x94\\x89\\x88\\x87\\x94R\\x94(K\\x03\\x8c\\x01<\\x94NNNJ\\xff\\xff\\xff\\xffJ\\xff\\xff\\xff\\xffK\\x00t\\x94b\\x89C\\x10\\x00\\x00\\x00\\x00\\x00\\x00\\xf0?\\x00\\x00\\x00\\x00\\x00\\x00\\xf0?\\x94t\\x94b\\x8c\\x08classes_\\x94h h#K\\x00\\x85\\x94h%\\x87\\x94R\\x94(K\\x01K\\x02\\x85\\x94h*\\x8c\\x02i4\\x94\\x89\\x88\\x87\\x94R\\x94(K\\x03h.NNNJ\\xff\\xff\\xff\\xffJ\\xff\\xff\\xff\\xffK\\x00t\\x94b\\x89C\\x08\\x00\\x00\\x00\\x00\\x01\\x00\\x00\\x00\\x94t\\x94b\\x8c\\x06_gamma\\x94h\\x1e\\x8c\\x06scalar\\x94\\x93\\x94h-C\\x08\\x01\\x1d\\x01t\\x04\\xd0a?\\x94\\x86\\x94R\\x94\\x8c\\x08support_\\x94h h#K\\x00\\x85\\x94h%\\x87\\x94R\\x94(K\\x01K\\x03\\x85\\x94h9\\x89C\\x0c\\x03\\x00\\x00\\x00\\x0b\\x00\\x00\\x00\\x0f\\x00\\x00\\x00\\x94t\\x94b\\x8c\\x10support_vectors_\\x94h h#K\\x00\\x85\\x94h%\\x87\\x94R\\x94(K\\x01K\\x03K\\x02\\x86\\x94h-\\x89C0\\x00\\x00\\x00\\x00\\x00\\x80F@\\x00\\x00\\x00\\x00\\x00\\x001@\\x00\\x00\\x00\\x00\\x00\\x00E@\\x00\\x00\\x00\\x00\\x00\\x000@\\x00\\x00\\x00\\x00\\x00\\x00E@\\x00\\x00\\x00\\x00\\x00\\x009@\\x94t\\x94b\\x8c\\n_n_support\\x94h h#K\\x00\\x85\\x94h%\\x87\\x94R\\x94(K\\x01K\\x02\\x85\\x94h9\\x89C\\x08\\x01\\x00\\x00\\x00\\x02\\x00\\x00\\x00\\x94t\\x94b\\x8c\\ndual_coef_\\x94h h#K\\x00\\x85\\x94h%\\x87\\x94R\\x94(K\\x01K\\x01K\\x03\\x86\\x94h-\\x89C\\x18\\x19;\\x16\\x81\\xfdo\\xcc\\xbf5\\xdf\\xda9\\x1aG\\xc9? \\xdf\\xda9\\x1aG\\x99?\\x94t\\x94b\\x8c\\nintercept_\\x94h h#K\\x00\\x85\\x94h%\\x87\\x94R\\x94(K\\x01K\\x01\\x85\\x94h-\\x89C\\x08\\xe9\\xbcm\\xd12\\xfe<@\\x94t\\x94b\\x8c\\x06_probA\\x94h h#K\\x00\\x85\\x94h%\\x87\\x94R\\x94(K\\x01K\\x00\\x85\\x94h-\\x89C\\x00\\x94t\\x94b\\x8c\\x06_probB\\x94h h#K\\x00\\x85\\x94h%\\x87\\x94R\\x94(K\\x01K\\x00\\x85\\x94h-\\x89hkt\\x94b\\x8c\\x0bfit_status_\\x94K\\x00\\x8c\\nshape_fit_\\x94K\\x14K\\x02\\x86\\x94\\x8c\\x0b_intercept_\\x94h h#K\\x00\\x85\\x94h%\\x87\\x94R\\x94(K\\x01K\\x01\\x85\\x94h-\\x89C\\x08\\xe9\\xbcm\\xd12\\xfe<\\xc0\\x94t\\x94b\\x8c\\x0b_dual_coef_\\x94h h#K\\x00\\x85\\x94h%\\x87\\x94R\\x94(K\\x01K\\x01K\\x03\\x86\\x94h-\\x89C\\x18\\x19;\\x16\\x81\\xfdo\\xcc?5\\xdf\\xda9\\x1aG\\xc9\\xbf \\xdf\\xda9\\x1aG\\x99\\xbf\\x94t\\x94b\\x8c\\x10_sklearn_version\\x94\\x8c\\x060.24.1\\x94ub\\x8c\\x17muffin_cupcake_features\\x94]\\x94(\\x8c\\x05Flour\\x94\\x8c\\x05Sugar\\x94e\\x8c\\x0call_features\\x94]\\x94(\\x8c\\x05Flour\\x94\\x8c\\x04Milk\\x94\\x8c\\x05Sugar\\x94\\x8c\\x06Butter\\x94\\x8c\\x03Egg\\x94\\x8c\\rBaking Powder\\x94\\x8c\\x07Vanilla\\x94\\x8c\\x04Salt\\x94eu.'"
      ]
     },
     "execution_count": 71,
     "metadata": {},
     "output_type": "execute_result"
    }
   ],
   "source": [
    "# S = String\n",
    "pickle.dumps(muffin_cupcake_dict)"
   ]
  },
  {
   "cell_type": "code",
   "execution_count": null,
   "id": "896f1d2f",
   "metadata": {},
   "outputs": [],
   "source": []
  }
 ],
 "metadata": {
  "kernelspec": {
   "display_name": "Python 3",
   "language": "python",
   "name": "python3"
  },
  "language_info": {
   "codemirror_mode": {
    "name": "ipython",
    "version": 3
   },
   "file_extension": ".py",
   "mimetype": "text/x-python",
   "name": "python",
   "nbconvert_exporter": "python",
   "pygments_lexer": "ipython3",
   "version": "3.8.8"
  }
 },
 "nbformat": 4,
 "nbformat_minor": 5
}

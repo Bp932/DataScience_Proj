{
 "cells": [
  {
   "cell_type": "markdown",
   "id": "85a267e1",
   "metadata": {},
   "source": [
    "#### source: https://anaconda.org/Sanchitiitr/linear-regression-model/notebook"
   ]
  },
  {
   "cell_type": "code",
   "execution_count": 1,
   "id": "120ef308",
   "metadata": {},
   "outputs": [],
   "source": [
    "import numpy as np\n",
    "import scipy as sp\n",
    "import matplotlib as mpl\n",
    "import matplotlib.cm as cm\n",
    "import matplotlib.pyplot as plt\n",
    "import pandas as pd\n",
    "import seaborn as sns"
   ]
  },
  {
   "cell_type": "code",
   "execution_count": 16,
   "id": "8595a700",
   "metadata": {},
   "outputs": [],
   "source": [
    "df = pd.read_csv(\"Monthly Spending data.csv\")"
   ]
  },
  {
   "cell_type": "code",
   "execution_count": 17,
   "id": "55e6c5cd",
   "metadata": {},
   "outputs": [
    {
     "data": {
      "text/html": [
       "<div>\n",
       "<style scoped>\n",
       "    .dataframe tbody tr th:only-of-type {\n",
       "        vertical-align: middle;\n",
       "    }\n",
       "\n",
       "    .dataframe tbody tr th {\n",
       "        vertical-align: top;\n",
       "    }\n",
       "\n",
       "    .dataframe thead th {\n",
       "        text-align: right;\n",
       "    }\n",
       "</style>\n",
       "<table border=\"1\" class=\"dataframe\">\n",
       "  <thead>\n",
       "    <tr style=\"text-align: right;\">\n",
       "      <th></th>\n",
       "      <th>Monthly Income</th>\n",
       "      <th>Monthly Trips</th>\n",
       "      <th>Monthly Spending</th>\n",
       "    </tr>\n",
       "  </thead>\n",
       "  <tbody>\n",
       "    <tr>\n",
       "      <th>0</th>\n",
       "      <td>50000</td>\n",
       "      <td>3</td>\n",
       "      <td>48000</td>\n",
       "    </tr>\n",
       "    <tr>\n",
       "      <th>1</th>\n",
       "      <td>45000</td>\n",
       "      <td>2</td>\n",
       "      <td>38550</td>\n",
       "    </tr>\n",
       "    <tr>\n",
       "      <th>2</th>\n",
       "      <td>30000</td>\n",
       "      <td>0</td>\n",
       "      <td>22450</td>\n",
       "    </tr>\n",
       "    <tr>\n",
       "      <th>3</th>\n",
       "      <td>35000</td>\n",
       "      <td>1</td>\n",
       "      <td>31550</td>\n",
       "    </tr>\n",
       "    <tr>\n",
       "      <th>4</th>\n",
       "      <td>39000</td>\n",
       "      <td>2</td>\n",
       "      <td>32650</td>\n",
       "    </tr>\n",
       "    <tr>\n",
       "      <th>5</th>\n",
       "      <td>75000</td>\n",
       "      <td>5</td>\n",
       "      <td>71050</td>\n",
       "    </tr>\n",
       "    <tr>\n",
       "      <th>6</th>\n",
       "      <td>48000</td>\n",
       "      <td>4</td>\n",
       "      <td>46520</td>\n",
       "    </tr>\n",
       "    <tr>\n",
       "      <th>7</th>\n",
       "      <td>42000</td>\n",
       "      <td>3</td>\n",
       "      <td>37540</td>\n",
       "    </tr>\n",
       "    <tr>\n",
       "      <th>8</th>\n",
       "      <td>34651</td>\n",
       "      <td>2</td>\n",
       "      <td>32510</td>\n",
       "    </tr>\n",
       "    <tr>\n",
       "      <th>9</th>\n",
       "      <td>94520</td>\n",
       "      <td>7</td>\n",
       "      <td>84520</td>\n",
       "    </tr>\n",
       "    <tr>\n",
       "      <th>10</th>\n",
       "      <td>15000</td>\n",
       "      <td>0</td>\n",
       "      <td>14360</td>\n",
       "    </tr>\n",
       "    <tr>\n",
       "      <th>11</th>\n",
       "      <td>39651</td>\n",
       "      <td>2</td>\n",
       "      <td>36540</td>\n",
       "    </tr>\n",
       "    <tr>\n",
       "      <th>12</th>\n",
       "      <td>38450</td>\n",
       "      <td>2</td>\n",
       "      <td>35420</td>\n",
       "    </tr>\n",
       "    <tr>\n",
       "      <th>13</th>\n",
       "      <td>18540</td>\n",
       "      <td>1</td>\n",
       "      <td>17840</td>\n",
       "    </tr>\n",
       "    <tr>\n",
       "      <th>14</th>\n",
       "      <td>52160</td>\n",
       "      <td>3</td>\n",
       "      <td>49510</td>\n",
       "    </tr>\n",
       "    <tr>\n",
       "      <th>15</th>\n",
       "      <td>48300</td>\n",
       "      <td>3</td>\n",
       "      <td>45620</td>\n",
       "    </tr>\n",
       "    <tr>\n",
       "      <th>16</th>\n",
       "      <td>51200</td>\n",
       "      <td>1</td>\n",
       "      <td>41050</td>\n",
       "    </tr>\n",
       "    <tr>\n",
       "      <th>17</th>\n",
       "      <td>62100</td>\n",
       "      <td>4</td>\n",
       "      <td>60420</td>\n",
       "    </tr>\n",
       "    <tr>\n",
       "      <th>18</th>\n",
       "      <td>44500</td>\n",
       "      <td>3</td>\n",
       "      <td>43020</td>\n",
       "    </tr>\n",
       "    <tr>\n",
       "      <th>19</th>\n",
       "      <td>36450</td>\n",
       "      <td>3</td>\n",
       "      <td>35720</td>\n",
       "    </tr>\n",
       "    <tr>\n",
       "      <th>20</th>\n",
       "      <td>27540</td>\n",
       "      <td>1</td>\n",
       "      <td>24530</td>\n",
       "    </tr>\n",
       "    <tr>\n",
       "      <th>21</th>\n",
       "      <td>22480</td>\n",
       "      <td>1</td>\n",
       "      <td>19650</td>\n",
       "    </tr>\n",
       "    <tr>\n",
       "      <th>22</th>\n",
       "      <td>47520</td>\n",
       "      <td>0</td>\n",
       "      <td>32210</td>\n",
       "    </tr>\n",
       "    <tr>\n",
       "      <th>23</th>\n",
       "      <td>53420</td>\n",
       "      <td>4</td>\n",
       "      <td>52130</td>\n",
       "    </tr>\n",
       "    <tr>\n",
       "      <th>24</th>\n",
       "      <td>18420</td>\n",
       "      <td>1</td>\n",
       "      <td>17520</td>\n",
       "    </tr>\n",
       "    <tr>\n",
       "      <th>25</th>\n",
       "      <td>24586</td>\n",
       "      <td>1</td>\n",
       "      <td>21050</td>\n",
       "    </tr>\n",
       "    <tr>\n",
       "      <th>26</th>\n",
       "      <td>65421</td>\n",
       "      <td>4</td>\n",
       "      <td>63520</td>\n",
       "    </tr>\n",
       "    <tr>\n",
       "      <th>27</th>\n",
       "      <td>15420</td>\n",
       "      <td>0</td>\n",
       "      <td>12540</td>\n",
       "    </tr>\n",
       "    <tr>\n",
       "      <th>28</th>\n",
       "      <td>47564</td>\n",
       "      <td>3</td>\n",
       "      <td>47540</td>\n",
       "    </tr>\n",
       "    <tr>\n",
       "      <th>29</th>\n",
       "      <td>85425</td>\n",
       "      <td>6</td>\n",
       "      <td>84500</td>\n",
       "    </tr>\n",
       "    <tr>\n",
       "      <th>30</th>\n",
       "      <td>78654</td>\n",
       "      <td>4</td>\n",
       "      <td>76450</td>\n",
       "    </tr>\n",
       "    <tr>\n",
       "      <th>31</th>\n",
       "      <td>48570</td>\n",
       "      <td>4</td>\n",
       "      <td>48450</td>\n",
       "    </tr>\n",
       "    <tr>\n",
       "      <th>32</th>\n",
       "      <td>69452</td>\n",
       "      <td>5</td>\n",
       "      <td>68780</td>\n",
       "    </tr>\n",
       "    <tr>\n",
       "      <th>33</th>\n",
       "      <td>37480</td>\n",
       "      <td>3</td>\n",
       "      <td>35940</td>\n",
       "    </tr>\n",
       "    <tr>\n",
       "      <th>34</th>\n",
       "      <td>48760</td>\n",
       "      <td>3</td>\n",
       "      <td>45120</td>\n",
       "    </tr>\n",
       "    <tr>\n",
       "      <th>35</th>\n",
       "      <td>57860</td>\n",
       "      <td>5</td>\n",
       "      <td>56742</td>\n",
       "    </tr>\n",
       "  </tbody>\n",
       "</table>\n",
       "</div>"
      ],
      "text/plain": [
       "    Monthly Income  Monthly Trips  Monthly Spending\n",
       "0            50000              3             48000\n",
       "1            45000              2             38550\n",
       "2            30000              0             22450\n",
       "3            35000              1             31550\n",
       "4            39000              2             32650\n",
       "5            75000              5             71050\n",
       "6            48000              4             46520\n",
       "7            42000              3             37540\n",
       "8            34651              2             32510\n",
       "9            94520              7             84520\n",
       "10           15000              0             14360\n",
       "11           39651              2             36540\n",
       "12           38450              2             35420\n",
       "13           18540              1             17840\n",
       "14           52160              3             49510\n",
       "15           48300              3             45620\n",
       "16           51200              1             41050\n",
       "17           62100              4             60420\n",
       "18           44500              3             43020\n",
       "19           36450              3             35720\n",
       "20           27540              1             24530\n",
       "21           22480              1             19650\n",
       "22           47520              0             32210\n",
       "23           53420              4             52130\n",
       "24           18420              1             17520\n",
       "25           24586              1             21050\n",
       "26           65421              4             63520\n",
       "27           15420              0             12540\n",
       "28           47564              3             47540\n",
       "29           85425              6             84500\n",
       "30           78654              4             76450\n",
       "31           48570              4             48450\n",
       "32           69452              5             68780\n",
       "33           37480              3             35940\n",
       "34           48760              3             45120\n",
       "35           57860              5             56742"
      ]
     },
     "execution_count": 17,
     "metadata": {},
     "output_type": "execute_result"
    }
   ],
   "source": [
    "df"
   ]
  },
  {
   "cell_type": "code",
   "execution_count": 18,
   "id": "5e832deb",
   "metadata": {},
   "outputs": [
    {
     "data": {
      "text/html": [
       "<div>\n",
       "<style scoped>\n",
       "    .dataframe tbody tr th:only-of-type {\n",
       "        vertical-align: middle;\n",
       "    }\n",
       "\n",
       "    .dataframe tbody tr th {\n",
       "        vertical-align: top;\n",
       "    }\n",
       "\n",
       "    .dataframe thead th {\n",
       "        text-align: right;\n",
       "    }\n",
       "</style>\n",
       "<table border=\"1\" class=\"dataframe\">\n",
       "  <thead>\n",
       "    <tr style=\"text-align: right;\">\n",
       "      <th></th>\n",
       "      <th>Monthly Income</th>\n",
       "      <th>Monthly Trips</th>\n",
       "      <th>Monthly Spending</th>\n",
       "    </tr>\n",
       "  </thead>\n",
       "  <tbody>\n",
       "    <tr>\n",
       "      <th>count</th>\n",
       "      <td>36.000000</td>\n",
       "      <td>36.000000</td>\n",
       "      <td>36.000000</td>\n",
       "    </tr>\n",
       "    <tr>\n",
       "      <th>mean</th>\n",
       "      <td>45780.388889</td>\n",
       "      <td>2.666667</td>\n",
       "      <td>42542.000000</td>\n",
       "    </tr>\n",
       "    <tr>\n",
       "      <th>std</th>\n",
       "      <td>19201.146866</td>\n",
       "      <td>1.756620</td>\n",
       "      <td>19039.818246</td>\n",
       "    </tr>\n",
       "    <tr>\n",
       "      <th>min</th>\n",
       "      <td>15000.000000</td>\n",
       "      <td>0.000000</td>\n",
       "      <td>12540.000000</td>\n",
       "    </tr>\n",
       "    <tr>\n",
       "      <th>25%</th>\n",
       "      <td>34912.750000</td>\n",
       "      <td>1.000000</td>\n",
       "      <td>32045.000000</td>\n",
       "    </tr>\n",
       "    <tr>\n",
       "      <th>50%</th>\n",
       "      <td>46260.000000</td>\n",
       "      <td>3.000000</td>\n",
       "      <td>39800.000000</td>\n",
       "    </tr>\n",
       "    <tr>\n",
       "      <th>75%</th>\n",
       "      <td>52475.000000</td>\n",
       "      <td>4.000000</td>\n",
       "      <td>50165.000000</td>\n",
       "    </tr>\n",
       "    <tr>\n",
       "      <th>max</th>\n",
       "      <td>94520.000000</td>\n",
       "      <td>7.000000</td>\n",
       "      <td>84520.000000</td>\n",
       "    </tr>\n",
       "  </tbody>\n",
       "</table>\n",
       "</div>"
      ],
      "text/plain": [
       "       Monthly Income  Monthly Trips  Monthly Spending\n",
       "count       36.000000      36.000000         36.000000\n",
       "mean     45780.388889       2.666667      42542.000000\n",
       "std      19201.146866       1.756620      19039.818246\n",
       "min      15000.000000       0.000000      12540.000000\n",
       "25%      34912.750000       1.000000      32045.000000\n",
       "50%      46260.000000       3.000000      39800.000000\n",
       "75%      52475.000000       4.000000      50165.000000\n",
       "max      94520.000000       7.000000      84520.000000"
      ]
     },
     "execution_count": 18,
     "metadata": {},
     "output_type": "execute_result"
    }
   ],
   "source": [
    "df.describe()"
   ]
  },
  {
   "cell_type": "code",
   "execution_count": 20,
   "id": "b624f619",
   "metadata": {},
   "outputs": [
    {
     "data": {
      "text/html": [
       "<div>\n",
       "<style scoped>\n",
       "    .dataframe tbody tr th:only-of-type {\n",
       "        vertical-align: middle;\n",
       "    }\n",
       "\n",
       "    .dataframe tbody tr th {\n",
       "        vertical-align: top;\n",
       "    }\n",
       "\n",
       "    .dataframe thead th {\n",
       "        text-align: right;\n",
       "    }\n",
       "</style>\n",
       "<table border=\"1\" class=\"dataframe\">\n",
       "  <thead>\n",
       "    <tr style=\"text-align: right;\">\n",
       "      <th></th>\n",
       "      <th>Monthly Income</th>\n",
       "      <th>Monthly Trips</th>\n",
       "    </tr>\n",
       "  </thead>\n",
       "  <tbody>\n",
       "    <tr>\n",
       "      <th>0</th>\n",
       "      <td>50000</td>\n",
       "      <td>3</td>\n",
       "    </tr>\n",
       "    <tr>\n",
       "      <th>1</th>\n",
       "      <td>45000</td>\n",
       "      <td>2</td>\n",
       "    </tr>\n",
       "    <tr>\n",
       "      <th>2</th>\n",
       "      <td>30000</td>\n",
       "      <td>0</td>\n",
       "    </tr>\n",
       "    <tr>\n",
       "      <th>3</th>\n",
       "      <td>35000</td>\n",
       "      <td>1</td>\n",
       "    </tr>\n",
       "    <tr>\n",
       "      <th>4</th>\n",
       "      <td>39000</td>\n",
       "      <td>2</td>\n",
       "    </tr>\n",
       "    <tr>\n",
       "      <th>5</th>\n",
       "      <td>75000</td>\n",
       "      <td>5</td>\n",
       "    </tr>\n",
       "    <tr>\n",
       "      <th>6</th>\n",
       "      <td>48000</td>\n",
       "      <td>4</td>\n",
       "    </tr>\n",
       "    <tr>\n",
       "      <th>7</th>\n",
       "      <td>42000</td>\n",
       "      <td>3</td>\n",
       "    </tr>\n",
       "    <tr>\n",
       "      <th>8</th>\n",
       "      <td>34651</td>\n",
       "      <td>2</td>\n",
       "    </tr>\n",
       "    <tr>\n",
       "      <th>9</th>\n",
       "      <td>94520</td>\n",
       "      <td>7</td>\n",
       "    </tr>\n",
       "    <tr>\n",
       "      <th>10</th>\n",
       "      <td>15000</td>\n",
       "      <td>0</td>\n",
       "    </tr>\n",
       "    <tr>\n",
       "      <th>11</th>\n",
       "      <td>39651</td>\n",
       "      <td>2</td>\n",
       "    </tr>\n",
       "    <tr>\n",
       "      <th>12</th>\n",
       "      <td>38450</td>\n",
       "      <td>2</td>\n",
       "    </tr>\n",
       "    <tr>\n",
       "      <th>13</th>\n",
       "      <td>18540</td>\n",
       "      <td>1</td>\n",
       "    </tr>\n",
       "    <tr>\n",
       "      <th>14</th>\n",
       "      <td>52160</td>\n",
       "      <td>3</td>\n",
       "    </tr>\n",
       "    <tr>\n",
       "      <th>15</th>\n",
       "      <td>48300</td>\n",
       "      <td>3</td>\n",
       "    </tr>\n",
       "    <tr>\n",
       "      <th>16</th>\n",
       "      <td>51200</td>\n",
       "      <td>1</td>\n",
       "    </tr>\n",
       "    <tr>\n",
       "      <th>17</th>\n",
       "      <td>62100</td>\n",
       "      <td>4</td>\n",
       "    </tr>\n",
       "    <tr>\n",
       "      <th>18</th>\n",
       "      <td>44500</td>\n",
       "      <td>3</td>\n",
       "    </tr>\n",
       "    <tr>\n",
       "      <th>19</th>\n",
       "      <td>36450</td>\n",
       "      <td>3</td>\n",
       "    </tr>\n",
       "    <tr>\n",
       "      <th>20</th>\n",
       "      <td>27540</td>\n",
       "      <td>1</td>\n",
       "    </tr>\n",
       "    <tr>\n",
       "      <th>21</th>\n",
       "      <td>22480</td>\n",
       "      <td>1</td>\n",
       "    </tr>\n",
       "    <tr>\n",
       "      <th>22</th>\n",
       "      <td>47520</td>\n",
       "      <td>0</td>\n",
       "    </tr>\n",
       "    <tr>\n",
       "      <th>23</th>\n",
       "      <td>53420</td>\n",
       "      <td>4</td>\n",
       "    </tr>\n",
       "    <tr>\n",
       "      <th>24</th>\n",
       "      <td>18420</td>\n",
       "      <td>1</td>\n",
       "    </tr>\n",
       "    <tr>\n",
       "      <th>25</th>\n",
       "      <td>24586</td>\n",
       "      <td>1</td>\n",
       "    </tr>\n",
       "    <tr>\n",
       "      <th>26</th>\n",
       "      <td>65421</td>\n",
       "      <td>4</td>\n",
       "    </tr>\n",
       "    <tr>\n",
       "      <th>27</th>\n",
       "      <td>15420</td>\n",
       "      <td>0</td>\n",
       "    </tr>\n",
       "    <tr>\n",
       "      <th>28</th>\n",
       "      <td>47564</td>\n",
       "      <td>3</td>\n",
       "    </tr>\n",
       "    <tr>\n",
       "      <th>29</th>\n",
       "      <td>85425</td>\n",
       "      <td>6</td>\n",
       "    </tr>\n",
       "    <tr>\n",
       "      <th>30</th>\n",
       "      <td>78654</td>\n",
       "      <td>4</td>\n",
       "    </tr>\n",
       "    <tr>\n",
       "      <th>31</th>\n",
       "      <td>48570</td>\n",
       "      <td>4</td>\n",
       "    </tr>\n",
       "    <tr>\n",
       "      <th>32</th>\n",
       "      <td>69452</td>\n",
       "      <td>5</td>\n",
       "    </tr>\n",
       "    <tr>\n",
       "      <th>33</th>\n",
       "      <td>37480</td>\n",
       "      <td>3</td>\n",
       "    </tr>\n",
       "    <tr>\n",
       "      <th>34</th>\n",
       "      <td>48760</td>\n",
       "      <td>3</td>\n",
       "    </tr>\n",
       "    <tr>\n",
       "      <th>35</th>\n",
       "      <td>57860</td>\n",
       "      <td>5</td>\n",
       "    </tr>\n",
       "  </tbody>\n",
       "</table>\n",
       "</div>"
      ],
      "text/plain": [
       "    Monthly Income  Monthly Trips\n",
       "0            50000              3\n",
       "1            45000              2\n",
       "2            30000              0\n",
       "3            35000              1\n",
       "4            39000              2\n",
       "5            75000              5\n",
       "6            48000              4\n",
       "7            42000              3\n",
       "8            34651              2\n",
       "9            94520              7\n",
       "10           15000              0\n",
       "11           39651              2\n",
       "12           38450              2\n",
       "13           18540              1\n",
       "14           52160              3\n",
       "15           48300              3\n",
       "16           51200              1\n",
       "17           62100              4\n",
       "18           44500              3\n",
       "19           36450              3\n",
       "20           27540              1\n",
       "21           22480              1\n",
       "22           47520              0\n",
       "23           53420              4\n",
       "24           18420              1\n",
       "25           24586              1\n",
       "26           65421              4\n",
       "27           15420              0\n",
       "28           47564              3\n",
       "29           85425              6\n",
       "30           78654              4\n",
       "31           48570              4\n",
       "32           69452              5\n",
       "33           37480              3\n",
       "34           48760              3\n",
       "35           57860              5"
      ]
     },
     "execution_count": 20,
     "metadata": {},
     "output_type": "execute_result"
    }
   ],
   "source": [
    "y = df['Monthly Spending']\n",
    "X = df\n",
    "X= X.drop(['Monthly Spending'],axis=1)\n",
    "# del X['Monthly Spending'] # Same dropping as above can be performed via del function\n",
    "X"
   ]
  },
  {
   "cell_type": "code",
   "execution_count": 9,
   "id": "a992e198",
   "metadata": {},
   "outputs": [
    {
     "data": {
      "text/html": [
       "<div>\n",
       "<style scoped>\n",
       "    .dataframe tbody tr th:only-of-type {\n",
       "        vertical-align: middle;\n",
       "    }\n",
       "\n",
       "    .dataframe tbody tr th {\n",
       "        vertical-align: top;\n",
       "    }\n",
       "\n",
       "    .dataframe thead th {\n",
       "        text-align: right;\n",
       "    }\n",
       "</style>\n",
       "<table border=\"1\" class=\"dataframe\">\n",
       "  <thead>\n",
       "    <tr style=\"text-align: right;\">\n",
       "      <th></th>\n",
       "      <th>Monthly</th>\n",
       "      <th>Monthly Trips</th>\n",
       "    </tr>\n",
       "  </thead>\n",
       "  <tbody>\n",
       "    <tr>\n",
       "      <th>0</th>\n",
       "      <td>50000</td>\n",
       "      <td>3</td>\n",
       "    </tr>\n",
       "    <tr>\n",
       "      <th>1</th>\n",
       "      <td>45000</td>\n",
       "      <td>2</td>\n",
       "    </tr>\n",
       "    <tr>\n",
       "      <th>2</th>\n",
       "      <td>30000</td>\n",
       "      <td>0</td>\n",
       "    </tr>\n",
       "    <tr>\n",
       "      <th>3</th>\n",
       "      <td>35000</td>\n",
       "      <td>1</td>\n",
       "    </tr>\n",
       "    <tr>\n",
       "      <th>4</th>\n",
       "      <td>39000</td>\n",
       "      <td>2</td>\n",
       "    </tr>\n",
       "    <tr>\n",
       "      <th>5</th>\n",
       "      <td>75000</td>\n",
       "      <td>5</td>\n",
       "    </tr>\n",
       "    <tr>\n",
       "      <th>6</th>\n",
       "      <td>48000</td>\n",
       "      <td>4</td>\n",
       "    </tr>\n",
       "    <tr>\n",
       "      <th>7</th>\n",
       "      <td>42000</td>\n",
       "      <td>3</td>\n",
       "    </tr>\n",
       "    <tr>\n",
       "      <th>8</th>\n",
       "      <td>34651</td>\n",
       "      <td>2</td>\n",
       "    </tr>\n",
       "    <tr>\n",
       "      <th>9</th>\n",
       "      <td>94520</td>\n",
       "      <td>7</td>\n",
       "    </tr>\n",
       "    <tr>\n",
       "      <th>10</th>\n",
       "      <td>15000</td>\n",
       "      <td>0</td>\n",
       "    </tr>\n",
       "    <tr>\n",
       "      <th>11</th>\n",
       "      <td>39651</td>\n",
       "      <td>2</td>\n",
       "    </tr>\n",
       "    <tr>\n",
       "      <th>12</th>\n",
       "      <td>38450</td>\n",
       "      <td>2</td>\n",
       "    </tr>\n",
       "    <tr>\n",
       "      <th>13</th>\n",
       "      <td>18540</td>\n",
       "      <td>1</td>\n",
       "    </tr>\n",
       "    <tr>\n",
       "      <th>14</th>\n",
       "      <td>52160</td>\n",
       "      <td>3</td>\n",
       "    </tr>\n",
       "    <tr>\n",
       "      <th>15</th>\n",
       "      <td>48300</td>\n",
       "      <td>3</td>\n",
       "    </tr>\n",
       "    <tr>\n",
       "      <th>16</th>\n",
       "      <td>51200</td>\n",
       "      <td>1</td>\n",
       "    </tr>\n",
       "    <tr>\n",
       "      <th>17</th>\n",
       "      <td>62100</td>\n",
       "      <td>4</td>\n",
       "    </tr>\n",
       "    <tr>\n",
       "      <th>18</th>\n",
       "      <td>44500</td>\n",
       "      <td>3</td>\n",
       "    </tr>\n",
       "    <tr>\n",
       "      <th>19</th>\n",
       "      <td>36450</td>\n",
       "      <td>3</td>\n",
       "    </tr>\n",
       "    <tr>\n",
       "      <th>20</th>\n",
       "      <td>27540</td>\n",
       "      <td>1</td>\n",
       "    </tr>\n",
       "    <tr>\n",
       "      <th>21</th>\n",
       "      <td>22480</td>\n",
       "      <td>1</td>\n",
       "    </tr>\n",
       "    <tr>\n",
       "      <th>22</th>\n",
       "      <td>47520</td>\n",
       "      <td>0</td>\n",
       "    </tr>\n",
       "    <tr>\n",
       "      <th>23</th>\n",
       "      <td>53420</td>\n",
       "      <td>4</td>\n",
       "    </tr>\n",
       "    <tr>\n",
       "      <th>24</th>\n",
       "      <td>18420</td>\n",
       "      <td>1</td>\n",
       "    </tr>\n",
       "    <tr>\n",
       "      <th>25</th>\n",
       "      <td>24586</td>\n",
       "      <td>1</td>\n",
       "    </tr>\n",
       "    <tr>\n",
       "      <th>26</th>\n",
       "      <td>65421</td>\n",
       "      <td>4</td>\n",
       "    </tr>\n",
       "    <tr>\n",
       "      <th>27</th>\n",
       "      <td>15420</td>\n",
       "      <td>0</td>\n",
       "    </tr>\n",
       "    <tr>\n",
       "      <th>28</th>\n",
       "      <td>47564</td>\n",
       "      <td>3</td>\n",
       "    </tr>\n",
       "    <tr>\n",
       "      <th>29</th>\n",
       "      <td>85425</td>\n",
       "      <td>6</td>\n",
       "    </tr>\n",
       "    <tr>\n",
       "      <th>30</th>\n",
       "      <td>78654</td>\n",
       "      <td>4</td>\n",
       "    </tr>\n",
       "    <tr>\n",
       "      <th>31</th>\n",
       "      <td>48570</td>\n",
       "      <td>4</td>\n",
       "    </tr>\n",
       "    <tr>\n",
       "      <th>32</th>\n",
       "      <td>69452</td>\n",
       "      <td>5</td>\n",
       "    </tr>\n",
       "    <tr>\n",
       "      <th>33</th>\n",
       "      <td>37480</td>\n",
       "      <td>3</td>\n",
       "    </tr>\n",
       "    <tr>\n",
       "      <th>34</th>\n",
       "      <td>48760</td>\n",
       "      <td>3</td>\n",
       "    </tr>\n",
       "    <tr>\n",
       "      <th>35</th>\n",
       "      <td>57860</td>\n",
       "      <td>5</td>\n",
       "    </tr>\n",
       "  </tbody>\n",
       "</table>\n",
       "</div>"
      ],
      "text/plain": [
       "    Monthly  Monthly Trips\n",
       "0     50000              3\n",
       "1     45000              2\n",
       "2     30000              0\n",
       "3     35000              1\n",
       "4     39000              2\n",
       "5     75000              5\n",
       "6     48000              4\n",
       "7     42000              3\n",
       "8     34651              2\n",
       "9     94520              7\n",
       "10    15000              0\n",
       "11    39651              2\n",
       "12    38450              2\n",
       "13    18540              1\n",
       "14    52160              3\n",
       "15    48300              3\n",
       "16    51200              1\n",
       "17    62100              4\n",
       "18    44500              3\n",
       "19    36450              3\n",
       "20    27540              1\n",
       "21    22480              1\n",
       "22    47520              0\n",
       "23    53420              4\n",
       "24    18420              1\n",
       "25    24586              1\n",
       "26    65421              4\n",
       "27    15420              0\n",
       "28    47564              3\n",
       "29    85425              6\n",
       "30    78654              4\n",
       "31    48570              4\n",
       "32    69452              5\n",
       "33    37480              3\n",
       "34    48760              3\n",
       "35    57860              5"
      ]
     },
     "execution_count": 9,
     "metadata": {},
     "output_type": "execute_result"
    }
   ],
   "source": [
    "\n",
    "X"
   ]
  },
  {
   "cell_type": "code",
   "execution_count": 15,
   "id": "3d5a69da",
   "metadata": {},
   "outputs": [
    {
     "data": {
      "text/plain": [
       "Text(0, 0.5, 'Monthly Spending')"
      ]
     },
     "execution_count": 15,
     "metadata": {},
     "output_type": "execute_result"
    },
    {
     "data": {
      "image/png": "[encoded data removed]",
      "text/plain": [
       "<Figure size 720x720 with 1 Axes>"
      ]
     },
     "metadata": {
      "needs_background": "light"
     },
     "output_type": "display_data"
    }
   ],
   "source": [
    "plt.figure(figsize=(10,10))\n",
    "plt.scatter(X['Monthly'],y)\n",
    "plt.title(\"Monthly Spending Vs Monthly Income\")\n",
    "plt.xlabel(\"Monthly Income\")\n",
    "plt.ylabel(\"Monthly Spending\")"
   ]
  },
  {
   "cell_type": "code",
   "execution_count": 22,
   "id": "34105f14",
   "metadata": {},
   "outputs": [
    {
     "data": {
      "text/plain": [
       "Text(0, 0.5, 'Monthly Spending')"
      ]
     },
     "execution_count": 22,
     "metadata": {},
     "output_type": "execute_result"
    },
    {
     "data": {
      "image/png": "[encoded data removed]",
      "text/plain": [
       "<Figure size 720x720 with 1 Axes>"
      ]
     },
     "metadata": {
      "needs_background": "light"
     },
     "output_type": "display_data"
    }
   ],
   "source": [
    "# Visualising data with scatter plot between Montly trips and Monthly spending.\n",
    "\n",
    "plt.figure(figsize=(10,10))\n",
    "plt.scatter(X['Monthly Trips'],y)\n",
    "plt.title(\"Monthly Spending Vs Monthly Trips\")\n",
    "plt.xlabel(\"Monthly Trips\")\n",
    "plt.ylabel(\"Monthly Spending\")"
   ]
  },
  {
   "cell_type": "code",
   "execution_count": 23,
   "id": "9ceec3f9",
   "metadata": {},
   "outputs": [],
   "source": [
    "\n",
    "# create linear regression object\n",
    "\n",
    "from sklearn import linear_model\n",
    "reg = linear_model.LinearRegression()"
   ]
  },
  {
   "cell_type": "code",
   "execution_count": 25,
   "id": "b7f46f01",
   "metadata": {},
   "outputs": [],
   "source": [
    "\n",
    "# splitting the dataset into training and testing sets\n",
    "\n",
    "from sklearn.model_selection import train_test_split\n",
    "X_train,X_test,y_train,y_test = train_test_split(X,y,test_size=0.25,random_state=123)"
   ]
  },
  {
   "cell_type": "code",
   "execution_count": 26,
   "id": "40374357",
   "metadata": {},
   "outputs": [
    {
     "data": {
      "text/plain": [
       "LinearRegression()"
      ]
     },
     "execution_count": 26,
     "metadata": {},
     "output_type": "execute_result"
    }
   ],
   "source": [
    "\n",
    "# train the model using the training sets\n",
    "\n",
    "reg.fit(X_train,y_train)"
   ]
  },
  {
   "cell_type": "code",
   "execution_count": 30,
   "id": "7aa8123a",
   "metadata": {},
   "outputs": [
    {
     "name": "stdout",
     "output_type": "stream",
     "text": [
      "Coefficients:\n",
      " [7.60040025e-01 2.70548966e+03]\n",
      "Intercept:\n",
      " 443.0247315036395\n"
     ]
    }
   ],
   "source": [
    "\n",
    "# regression coefficients\n",
    "print('Coefficients:\\n',reg.coef_)\n",
    "# regression intercept\n",
    "print('Intercept:\\n',reg.intercept_)"
   ]
  },
  {
   "cell_type": "code",
   "execution_count": 31,
   "id": "d2d189a1",
   "metadata": {},
   "outputs": [
    {
     "name": "stdout",
     "output_type": "stream",
     "text": [
      "Variance score: 0.997196013888338\n"
     ]
    }
   ],
   "source": [
    "\n",
    "# variance score or the R-Squared value: 1 means perfect prediction\n",
    "print('Variance score: {}'.format(reg.score(X_test,y_test)))"
   ]
  },
  {
   "cell_type": "code",
   "execution_count": 35,
   "id": "8a4751d3",
   "metadata": {},
   "outputs": [
    {
     "data": {
      "image/png": "[encoded data removed]",
      "text/plain": [
       "<Figure size 432x288 with 1 Axes>"
      ]
     },
     "metadata": {},
     "output_type": "display_data"
    }
   ],
   "source": [
    "\n",
    "# plot residual error\n",
    "\n",
    "## setting plot style\n",
    "plt.style.use('fivethirtyeight')\n",
    "\n",
    "## plotting residual errors in training data\n",
    "plt.scatter(reg.predict(X_train),reg.predict(X_train)-y_train,\n",
    "           color=\"green\",s=10,label='Train data')\n",
    "\n",
    "## plotting residual errors in test data\n",
    "plt.scatter(reg.predict(X_test),reg.predict(X_test)-y_test,\n",
    "           color=\"red\",s=10,label='Test data')\n",
    "\n",
    "## plotting line for zero residual error\n",
    "plt.hlines(y=0,xmin=0,xmax=50,linewidth=2)\n",
    "\n",
    "## plotting legend\n",
    "plt.legend(loc='upper right')\n",
    "\n",
    "## plot title\n",
    "plt.title(\"Residual errors\")\n",
    "\n",
    "## function to show plot\n",
    "plt.show()"
   ]
  },
  {
   "cell_type": "markdown",
   "id": "6377035d",
   "metadata": {},
   "source": [
    "### Linear Model using Statsmodels"
   ]
  },
  {
   "cell_type": "code",
   "execution_count": 36,
   "id": "8d015d6d",
   "metadata": {},
   "outputs": [],
   "source": [
    "\n",
    "# This is the standad import if you are using \"formula notation\"\n",
    "\n",
    "import statsmodels.api as sm"
   ]
  },
  {
   "cell_type": "code",
   "execution_count": 37,
   "id": "5a381bc9",
   "metadata": {},
   "outputs": [],
   "source": [
    "\n",
    "# create a model and fit the data using this model\n",
    "\n",
    "lm = sm.OLS(y,X).fit()"
   ]
  },
  {
   "cell_type": "code",
   "execution_count": 38,
   "id": "c050a81a",
   "metadata": {},
   "outputs": [
    {
     "data": {
      "text/plain": [
       "Monthly Income       0.774349\n",
       "Monthly Trips     2638.665608\n",
       "dtype: float64"
      ]
     },
     "execution_count": 38,
     "metadata": {},
     "output_type": "execute_result"
    }
   ],
   "source": [
    "\n",
    "# print the coefficients\n",
    "lm.params"
   ]
  },
  {
   "cell_type": "code",
   "execution_count": 39,
   "id": "f87739d8",
   "metadata": {},
   "outputs": [
    {
     "data": {
      "text/html": [
       "<table class=\"simpletable\">\n",
       "<caption>OLS Regression Results</caption>\n",
       "<tr>\n",
       "  <th>Dep. Variable:</th>    <td>Monthly Spending</td> <th>  R-squared (uncentered):</th>      <td>   0.998</td>\n",
       "</tr>\n",
       "<tr>\n",
       "  <th>Model:</th>                   <td>OLS</td>       <th>  Adj. R-squared (uncentered):</th> <td>   0.998</td>\n",
       "</tr>\n",
       "<tr>\n",
       "  <th>Method:</th>             <td>Least Squares</td>  <th>  F-statistic:       </th>          <td>   7950.</td>\n",
       "</tr>\n",
       "<tr>\n",
       "  <th>Date:</th>             <td>Wed, 23 Nov 2022</td> <th>  Prob (F-statistic):</th>          <td>3.94e-46</td>\n",
       "</tr>\n",
       "<tr>\n",
       "  <th>Time:</th>                 <td>00:49:56</td>     <th>  Log-Likelihood:    </th>          <td> -327.28</td>\n",
       "</tr>\n",
       "<tr>\n",
       "  <th>No. Observations:</th>      <td>    36</td>      <th>  AIC:               </th>          <td>   658.6</td>\n",
       "</tr>\n",
       "<tr>\n",
       "  <th>Df Residuals:</th>          <td>    34</td>      <th>  BIC:               </th>          <td>   661.7</td>\n",
       "</tr>\n",
       "<tr>\n",
       "  <th>Df Model:</th>              <td>     2</td>      <th>                     </th>              <td> </td>   \n",
       "</tr>\n",
       "<tr>\n",
       "  <th>Covariance Type:</th>      <td>nonrobust</td>    <th>                     </th>              <td> </td>   \n",
       "</tr>\n",
       "</table>\n",
       "<table class=\"simpletable\">\n",
       "<tr>\n",
       "         <td></td>           <th>coef</th>     <th>std err</th>      <th>t</th>      <th>P>|t|</th>  <th>[0.025</th>    <th>0.975]</th>  \n",
       "</tr>\n",
       "<tr>\n",
       "  <th>Monthly Income</th> <td>    0.7743</td> <td>    0.025</td> <td>   30.444</td> <td> 0.000</td> <td>    0.723</td> <td>    0.826</td>\n",
       "</tr>\n",
       "<tr>\n",
       "  <th>Monthly Trips</th>  <td> 2638.6656</td> <td>  396.271</td> <td>    6.659</td> <td> 0.000</td> <td> 1833.346</td> <td> 3443.985</td>\n",
       "</tr>\n",
       "</table>\n",
       "<table class=\"simpletable\">\n",
       "<tr>\n",
       "  <th>Omnibus:</th>       <td>11.620</td> <th>  Durbin-Watson:     </th> <td>   2.006</td>\n",
       "</tr>\n",
       "<tr>\n",
       "  <th>Prob(Omnibus):</th> <td> 0.003</td> <th>  Jarque-Bera (JB):  </th> <td>  13.510</td>\n",
       "</tr>\n",
       "<tr>\n",
       "  <th>Skew:</th>          <td>-0.922</td> <th>  Prob(JB):          </th> <td> 0.00117</td>\n",
       "</tr>\n",
       "<tr>\n",
       "  <th>Kurtosis:</th>      <td> 5.368</td> <th>  Cond. No.          </th> <td>5.33e+04</td>\n",
       "</tr>\n",
       "</table><br/><br/>Notes:<br/>[1] R² is computed without centering (uncentered) since the model does not contain a constant.<br/>[2] Standard Errors assume that the covariance matrix of the errors is correctly specified.<br/>[3] The condition number is large, 5.33e+04. This might indicate that there are<br/>strong multicollinearity or other numerical problems."
      ],
      "text/plain": [
       "<class 'statsmodels.iolib.summary.Summary'>\n",
       "\"\"\"\n",
       "                                 OLS Regression Results                                \n",
       "=======================================================================================\n",
       "Dep. Variable:       Monthly Spending   R-squared (uncentered):                   0.998\n",
       "Model:                            OLS   Adj. R-squared (uncentered):              0.998\n",
       "Method:                 Least Squares   F-statistic:                              7950.\n",
       "Date:                Wed, 23 Nov 2022   Prob (F-statistic):                    3.94e-46\n",
       "Time:                        00:49:56   Log-Likelihood:                         -327.28\n",
       "No. Observations:                  36   AIC:                                      658.6\n",
       "Df Residuals:                      34   BIC:                                      661.7\n",
       "Df Model:                           2                                                  \n",
       "Covariance Type:            nonrobust                                                  \n",
       "==================================================================================\n",
       "                     coef    std err          t      P>|t|      [0.025      0.975]\n",
       "----------------------------------------------------------------------------------\n",
       "Monthly Income     0.7743      0.025     30.444      0.000       0.723       0.826\n",
       "Monthly Trips   2638.6656    396.271      6.659      0.000    1833.346    3443.985\n",
       "==============================================================================\n",
       "Omnibus:                       11.620   Durbin-Watson:                   2.006\n",
       "Prob(Omnibus):                  0.003   Jarque-Bera (JB):               13.510\n",
       "Skew:                          -0.922   Prob(JB):                      0.00117\n",
       "Kurtosis:                       5.368   Cond. No.                     5.33e+04\n",
       "==============================================================================\n",
       "\n",
       "Notes:\n",
       "[1] R² is computed without centering (uncentered) since the model does not contain a constant.\n",
       "[2] Standard Errors assume that the covariance matrix of the errors is correctly specified.\n",
       "[3] The condition number is large, 5.33e+04. This might indicate that there are\n",
       "strong multicollinearity or other numerical problems.\n",
       "\"\"\""
      ]
     },
     "execution_count": 39,
     "metadata": {},
     "output_type": "execute_result"
    }
   ],
   "source": [
    "# print a summary of the fitted model\n",
    "\n",
    "lm.summary()"
   ]
  },
  {
   "cell_type": "markdown",
   "id": "a5c597fa",
   "metadata": {},
   "source": [
    "##### Since the p-value of monthly trips is less, it is a more significant variable in predicting monthly spending. We also know this by intution because the more the montly trips, more will be the spending. Whereas more monthly income does not necessarily mean more monthly spending as there could be more saving and less spending."
   ]
  },
  {
   "cell_type": "code",
   "execution_count": 40,
   "id": "026c6ba5",
   "metadata": {},
   "outputs": [],
   "source": [
    "# create 2 linear models with only one variable at a time\n",
    "\n",
    "x1 = X['Monthly Income']\n",
    "x2 = X['Monthly Trips']\n",
    "lm1 = sm.OLS(y,x1).fit()\n",
    "lm2 = sm.OLS(y,x2).fit()"
   ]
  },
  {
   "cell_type": "code",
   "execution_count": 41,
   "id": "4a934eb1",
   "metadata": {},
   "outputs": [
    {
     "data": {
      "text/html": [
       "<table class=\"simpletable\">\n",
       "<caption>OLS Regression Results</caption>\n",
       "<tr>\n",
       "  <th>Dep. Variable:</th>    <td>Monthly Spending</td> <th>  R-squared (uncentered):</th>      <td>   0.995</td>\n",
       "</tr>\n",
       "<tr>\n",
       "  <th>Model:</th>                   <td>OLS</td>       <th>  Adj. R-squared (uncentered):</th> <td>   0.995</td>\n",
       "</tr>\n",
       "<tr>\n",
       "  <th>Method:</th>             <td>Least Squares</td>  <th>  F-statistic:       </th>          <td>   7084.</td>\n",
       "</tr>\n",
       "<tr>\n",
       "  <th>Date:</th>             <td>Wed, 23 Nov 2022</td> <th>  Prob (F-statistic):</th>          <td>5.39e-42</td>\n",
       "</tr>\n",
       "<tr>\n",
       "  <th>Time:</th>                 <td>00:52:44</td>     <th>  Log-Likelihood:    </th>          <td> -342.31</td>\n",
       "</tr>\n",
       "<tr>\n",
       "  <th>No. Observations:</th>      <td>    36</td>      <th>  AIC:               </th>          <td>   686.6</td>\n",
       "</tr>\n",
       "<tr>\n",
       "  <th>Df Residuals:</th>          <td>    35</td>      <th>  BIC:               </th>          <td>   688.2</td>\n",
       "</tr>\n",
       "<tr>\n",
       "  <th>Df Model:</th>              <td>     1</td>      <th>                     </th>              <td> </td>   \n",
       "</tr>\n",
       "<tr>\n",
       "  <th>Covariance Type:</th>      <td>nonrobust</td>    <th>                     </th>              <td> </td>   \n",
       "</tr>\n",
       "</table>\n",
       "<table class=\"simpletable\">\n",
       "<tr>\n",
       "         <td></td>           <th>coef</th>     <th>std err</th>      <th>t</th>      <th>P>|t|</th>  <th>[0.025</th>    <th>0.975]</th>  \n",
       "</tr>\n",
       "<tr>\n",
       "  <th>Monthly Income</th> <td>    0.9363</td> <td>    0.011</td> <td>   84.169</td> <td> 0.000</td> <td>    0.914</td> <td>    0.959</td>\n",
       "</tr>\n",
       "</table>\n",
       "<table class=\"simpletable\">\n",
       "<tr>\n",
       "  <th>Omnibus:</th>       <td>20.541</td> <th>  Durbin-Watson:     </th> <td>   1.811</td>\n",
       "</tr>\n",
       "<tr>\n",
       "  <th>Prob(Omnibus):</th> <td> 0.000</td> <th>  Jarque-Bera (JB):  </th> <td>  30.368</td>\n",
       "</tr>\n",
       "<tr>\n",
       "  <th>Skew:</th>          <td>-1.547</td> <th>  Prob(JB):          </th> <td>2.54e-07</td>\n",
       "</tr>\n",
       "<tr>\n",
       "  <th>Kurtosis:</th>      <td> 6.267</td> <th>  Cond. No.          </th> <td>    1.00</td>\n",
       "</tr>\n",
       "</table><br/><br/>Notes:<br/>[1] R² is computed without centering (uncentered) since the model does not contain a constant.<br/>[2] Standard Errors assume that the covariance matrix of the errors is correctly specified."
      ],
      "text/plain": [
       "<class 'statsmodels.iolib.summary.Summary'>\n",
       "\"\"\"\n",
       "                                 OLS Regression Results                                \n",
       "=======================================================================================\n",
       "Dep. Variable:       Monthly Spending   R-squared (uncentered):                   0.995\n",
       "Model:                            OLS   Adj. R-squared (uncentered):              0.995\n",
       "Method:                 Least Squares   F-statistic:                              7084.\n",
       "Date:                Wed, 23 Nov 2022   Prob (F-statistic):                    5.39e-42\n",
       "Time:                        00:52:44   Log-Likelihood:                         -342.31\n",
       "No. Observations:                  36   AIC:                                      686.6\n",
       "Df Residuals:                      35   BIC:                                      688.2\n",
       "Df Model:                           1                                                  \n",
       "Covariance Type:            nonrobust                                                  \n",
       "==================================================================================\n",
       "                     coef    std err          t      P>|t|      [0.025      0.975]\n",
       "----------------------------------------------------------------------------------\n",
       "Monthly Income     0.9363      0.011     84.169      0.000       0.914       0.959\n",
       "==============================================================================\n",
       "Omnibus:                       20.541   Durbin-Watson:                   1.811\n",
       "Prob(Omnibus):                  0.000   Jarque-Bera (JB):               30.368\n",
       "Skew:                          -1.547   Prob(JB):                     2.54e-07\n",
       "Kurtosis:                       6.267   Cond. No.                         1.00\n",
       "==============================================================================\n",
       "\n",
       "Notes:\n",
       "[1] R² is computed without centering (uncentered) since the model does not contain a constant.\n",
       "[2] Standard Errors assume that the covariance matrix of the errors is correctly specified.\n",
       "\"\"\""
      ]
     },
     "execution_count": 41,
     "metadata": {},
     "output_type": "execute_result"
    }
   ],
   "source": [
    "# print summary of the model with only monthly income as independent variable.\n",
    "lm1.summary()"
   ]
  },
  {
   "cell_type": "markdown",
   "id": "dfc32eca",
   "metadata": {},
   "source": [
    "##### So, we have created 3 models and calculated their R-squared and adjusted R-squared values. We can see that the first model with both monthly income and monthly trips as independent variables has the highest adjusted R-squared value. So the best model out of the three will be the first one."
   ]
  },
  {
   "cell_type": "code",
   "execution_count": 42,
   "id": "3bfa9bc5",
   "metadata": {},
   "outputs": [],
   "source": [
    "import numpy as np\n",
    "import pandas as pd\n",
    "from matplotlib import pyplot as plt"
   ]
  },
  {
   "cell_type": "code",
   "execution_count": 43,
   "id": "2c208c19",
   "metadata": {},
   "outputs": [
    {
     "name": "stdout",
     "output_type": "stream",
     "text": [
      "     X1       y\n",
      "0  2600  550000\n",
      "1  3000  565000\n",
      "2  3200  610000\n",
      "3  3600  680000\n",
      "4  4000  725000\n",
      "5  4300  756000\n",
      "6  4500  768000\n"
     ]
    }
   ],
   "source": [
    "df = pd.read_csv(r\"D:\\IIT ISM Dhanbad\\Machine Learning\\ML Lab\\DataBases\\basic_database.csv\")\n",
    "print(df)"
   ]
  },
  {
   "cell_type": "code",
   "execution_count": 44,
   "id": "594f5a80",
   "metadata": {},
   "outputs": [
    {
     "data": {
      "text/plain": [
       "Text(0, 0.5, 'price')"
      ]
     },
     "execution_count": 44,
     "metadata": {},
     "output_type": "execute_result"
    },
    {
     "data": {
      "image/png": "[encoded data removed]",
      "text/plain": [
       "<Figure size 432x288 with 1 Axes>"
      ]
     },
     "metadata": {},
     "output_type": "display_data"
    }
   ],
   "source": [
    "x = df[['X1']]\n",
    "y= df[['y']]\n",
    "plt.scatter(x,y)\n",
    "plt.xlabel('area')\n",
    "plt.ylabel('price')"
   ]
  },
  {
   "cell_type": "code",
   "execution_count": 45,
   "id": "b33f7b19",
   "metadata": {},
   "outputs": [
    {
     "name": "stdout",
     "output_type": "stream",
     "text": [
      "linear regression intercept:  [208937.67976989]\n",
      "linear regression coefficient:  [[126.6442953]]\n",
      "predicted values:  [[538212.84755513]\n",
      " [588870.56567593]\n",
      " [614199.42473634]\n",
      " [664857.14285714]\n",
      " [715514.86097795]\n",
      " [753508.14956855]\n",
      " [778837.00862895]]\n"
     ]
    }
   ],
   "source": [
    "from sklearn.linear_model import LinearRegression\n",
    "regressor = LinearRegression()\n",
    "regressor.fit(x,y)\n",
    "print(\"linear regression intercept: \",regressor.intercept_)\n",
    "print(\"linear regression coefficient: \",regressor.coef_)\n",
    "target_pred=regressor.predict(x)\n",
    "print(\"predicted values: \",target_pred)"
   ]
  },
  {
   "cell_type": "code",
   "execution_count": 46,
   "id": "d581cb3a",
   "metadata": {},
   "outputs": [
    {
     "data": {
      "text/plain": [
       "<matplotlib.collections.PathCollection at 0x1601f3f65e0>"
      ]
     },
     "execution_count": 46,
     "metadata": {},
     "output_type": "execute_result"
    },
    {
     "data": {
      "image/png": "[encoded data removed]",
      "text/plain": [
       "<Figure size 432x288 with 1 Axes>"
      ]
     },
     "metadata": {},
     "output_type": "display_data"
    }
   ],
   "source": [
    "plt.plot(x,target_pred,color='g')\n",
    "plt.scatter(x,y)"
   ]
  },
  {
   "cell_type": "code",
   "execution_count": 52,
   "id": "b8eb2e29",
   "metadata": {},
   "outputs": [
    {
     "name": "stdout",
     "output_type": "stream",
     "text": [
      "Training Dataset:\n",
      "      X1\n",
      "1  3000\n",
      "3  3600\n",
      "0  2600\n",
      "5  4300\n",
      "4  4000\n",
      "Test Dataset:\n",
      "      X1\n",
      "6  4500\n",
      "2  3200\n",
      "Intercept:\n",
      " [194842.85714286]\n",
      "Predicted values:\n",
      " [[786730.6122449 ]\n",
      " [615740.81632653]]\n"
     ]
    }
   ],
   "source": [
    "from sklearn.model_selection import train_test_split\n",
    "x_train,x_test,y_train,y_test= train_test_split(x,y,test_size=0.2,random_state=0)\n",
    "print('Training Dataset:\\n',x_train)\n",
    "print('Test Dataset:\\n',x_test)\n",
    "regressor.fit(x_train,y_train)\n",
    "print('Intercept:\\n',regressor.intercept_)\n",
    "\n",
    "target_pred = regressor.predict(x_test)\n",
    "print('Predicted values:\\n',target_pred)"
   ]
  },
  {
   "cell_type": "code",
   "execution_count": 53,
   "id": "9af3d060",
   "metadata": {},
   "outputs": [
    {
     "name": "stdout",
     "output_type": "stream",
     "text": [
      "Mean Absolute Error :  12235.714285714319\n",
      "Mean Square Error :  191896403.58184165\n",
      "Root Mean Square Error :  13852.667742418485\n"
     ]
    }
   ],
   "source": [
    "from sklearn import metrics\n",
    "\n",
    "print('Mean Absolute Error : ',metrics.mean_absolute_error(y_test, target_pred))\n",
    "print('Mean Square Error : ',metrics.mean_squared_error(y_test,target_pred))\n",
    "print('Root Mean Square Error : ',np.sqrt(metrics.mean_squared_error(y_test,target_pred)))"
   ]
  },
  {
   "cell_type": "code",
   "execution_count": 54,
   "id": "a62a1a1d",
   "metadata": {},
   "outputs": [
    {
     "data": {
      "text/plain": [
       "0.9692522987370867"
      ]
     },
     "execution_count": 54,
     "metadata": {},
     "output_type": "execute_result"
    }
   ],
   "source": [
    "from sklearn.metrics import r2_score\n",
    "r2_score(y_test,target_pred)"
   ]
  },
  {
   "cell_type": "code",
   "execution_count": 55,
   "id": "e4d59a4b",
   "metadata": {},
   "outputs": [
    {
     "data": {
      "text/plain": [
       "array([[<AxesSubplot:xlabel='area', ylabel='area'>,\n",
       "        <AxesSubplot:xlabel='bedroom', ylabel='area'>,\n",
       "        <AxesSubplot:xlabel='age', ylabel='area'>,\n",
       "        <AxesSubplot:xlabel='price', ylabel='area'>],\n",
       "       [<AxesSubplot:xlabel='area', ylabel='bedroom'>,\n",
       "        <AxesSubplot:xlabel='bedroom', ylabel='bedroom'>,\n",
       "        <AxesSubplot:xlabel='age', ylabel='bedroom'>,\n",
       "        <AxesSubplot:xlabel='price', ylabel='bedroom'>],\n",
       "       [<AxesSubplot:xlabel='area', ylabel='age'>,\n",
       "        <AxesSubplot:xlabel='bedroom', ylabel='age'>,\n",
       "        <AxesSubplot:xlabel='age', ylabel='age'>,\n",
       "        <AxesSubplot:xlabel='price', ylabel='age'>],\n",
       "       [<AxesSubplot:xlabel='area', ylabel='price'>,\n",
       "        <AxesSubplot:xlabel='bedroom', ylabel='price'>,\n",
       "        <AxesSubplot:xlabel='age', ylabel='price'>,\n",
       "        <AxesSubplot:xlabel='price', ylabel='price'>]], dtype=object)"
      ]
     },
     "execution_count": 55,
     "metadata": {},
     "output_type": "execute_result"
    },
    {
     "data": {
      "image/png": "[encoded data removed]",
      "text/plain": [
       "<Figure size 432x288 with 16 Axes>"
      ]
     },
     "metadata": {},
     "output_type": "display_data"
    }
   ],
   "source": [
    "df = pd.read_csv(r\"D:\\IIT ISM Dhanbad\\Machine Learning\\ML Lab\\DataBases\\basic_database2.csv\")\n",
    "df\n",
    "pd.plotting.scatter_matrix(df)"
   ]
  },
  {
   "cell_type": "code",
   "execution_count": 56,
   "id": "72c0fdb3",
   "metadata": {},
   "outputs": [
    {
     "data": {
      "text/plain": [
       "array([444400.])"
      ]
     },
     "execution_count": 56,
     "metadata": {},
     "output_type": "execute_result"
    }
   ],
   "source": [
    "from sklearn.linear_model import LinearRegression\n",
    "regressor = LinearRegression()\n",
    "regressor.fit(df[['area','bedroom','age']],df.price)\n",
    "regressor.intercept_\n",
    "regressor.predict([[3000,3,40]])"
   ]
  },
  {
   "cell_type": "code",
   "execution_count": 59,
   "id": "456007e4",
   "metadata": {},
   "outputs": [
    {
     "name": "stdout",
     "output_type": "stream",
     "text": [
      "intercept:\n",
      " 141624.7300000462\n",
      "cofficients:\n",
      " [  163.12497188   375.06749999 -4499.994375  ]\n"
     ]
    }
   ],
   "source": [
    "from sklearn.model_selection import train_test_split\n",
    "x_train,x_test,y_train,y_test=train_test_split(df[['area','bedroom','age']],df.price,test_size=2,random_state=0)\n",
    "regressor.fit(x_train,y_train)\n",
    "print('intercept:\\n',regressor.intercept_)\n",
    "print('cofficients:\\n',regressor.coef_)"
   ]
  },
  {
   "cell_type": "code",
   "execution_count": 60,
   "id": "bdcc4e2a",
   "metadata": {},
   "outputs": [
    {
     "name": "stdout",
     "output_type": "stream",
     "text": [
      "[583749.94375001 476874.971875  ]\n"
     ]
    }
   ],
   "source": [
    "target_pred = regressor.predict(x_test)\n",
    "print(target_pred)"
   ]
  },
  {
   "cell_type": "code",
   "execution_count": 61,
   "id": "6e8afb39",
   "metadata": {},
   "outputs": [
    {
     "name": "stdout",
     "output_type": "stream",
     "text": [
      "Mean Absolute Error :  49687.5421874928\n",
      "Mean Square Error :  3018167595.704501\n",
      "Root Mean Square Error :  54937.85212132434\n"
     ]
    },
    {
     "data": {
      "text/plain": [
       "-2.353519550782779"
      ]
     },
     "execution_count": 61,
     "metadata": {},
     "output_type": "execute_result"
    }
   ],
   "source": [
    "print('Mean Absolute Error : ',metrics.mean_absolute_error(y_test, target_pred))\n",
    "print('Mean Square Error : ',metrics.mean_squared_error(y_test,target_pred))\n",
    "print('Root Mean Square Error : ',np.sqrt(metrics.mean_squared_error(y_test,target_pred)))\n",
    "\n",
    "\n",
    "from sklearn.metrics import r2_score\n",
    "r2_score(y_test,target_pred)"
   ]
  },
  {
   "cell_type": "code",
   "execution_count": null,
   "id": "afdac869",
   "metadata": {},
   "outputs": [],
   "source": []
  }
 ],
 "metadata": {
  "kernelspec": {
   "display_name": "Python 3",
   "language": "python",
   "name": "python3"
  },
  "language_info": {
   "codemirror_mode": {
    "name": "ipython",
    "version": 3
   },
   "file_extension": ".py",
   "mimetype": "text/x-python",
   "name": "python",
   "nbconvert_exporter": "python",
   "pygments_lexer": "ipython3",
   "version": "3.8.8"
  }
 },
 "nbformat": 4,
 "nbformat_minor": 5
}
